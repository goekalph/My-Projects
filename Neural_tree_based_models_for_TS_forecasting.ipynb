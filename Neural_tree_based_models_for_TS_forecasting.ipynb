{
  "cells": [
    {
      "cell_type": "markdown",
      "metadata": {
        "id": "view-in-github",
        "colab_type": "text"
      },
      "source": [
        "<a href=\"https://colab.research.google.com/github/goekalph/My-Projects/blob/main/Neural_tree_based_models_for_TS_forecasting.ipynb\" target=\"_parent\"><img src=\"https://colab.research.google.com/assets/colab-badge.svg\" alt=\"Open In Colab\"/></a>"
      ]
    },
    {
      "cell_type": "markdown",
      "metadata": {
        "id": "2wG3SvNtUTUo"
      },
      "source": [
        "## IS Seminar WS 23/24\n",
        "\n",
        "Prototype: Neural Tree-based Models for Time Series forecasting\n",
        "\n",
        "Submitted By: Hasan Mert Gökalp, Oliver Klatt Tustanowski, Zhuocheng Xie, Bhavya Goyal"
      ]
    },
    {
      "cell_type": "markdown",
      "metadata": {
        "id": "3GDU_lEB3iJF"
      },
      "source": [
        "#Table of Contents\n",
        "1  Introduction\n",
        "\n",
        "2  Literature Review\n",
        "\n",
        "3  Experimental Design\n",
        "\n",
        "4  Methodology\n",
        "\n",
        "5  Optimization\n",
        "\n",
        "6  Conclusion\n",
        "\n",
        "7  References"
      ]
    },
    {
      "cell_type": "markdown",
      "metadata": {
        "id": "kcdhiSqi1L8q"
      },
      "source": [
        "# Importing Libraries"
      ]
    },
    {
      "cell_type": "code",
      "execution_count": null,
      "metadata": {
        "id": "U6mNB-PHxTMw"
      },
      "outputs": [],
      "source": [
        "#Import the libraries\n",
        "import os\n",
        "import datetime\n",
        "\n",
        "import IPython\n",
        "import IPython.display\n",
        "import matplotlib as mpl\n",
        "import matplotlib.pyplot as plt\n",
        "import numpy as np\n",
        "import pandas as pd\n",
        "import seaborn as sns\n",
        "import tensorflow as tf\n",
        "import random\n",
        "\n",
        "#Deep Neural Networks\n",
        "from tensorflow import keras\n",
        "from tensorflow.keras import layers\n",
        "\n",
        "mpl.rcParams['figure.figsize'] = (8, 6)\n",
        "mpl.rcParams['axes.grid'] = False"
      ]
    },
    {
      "cell_type": "markdown",
      "metadata": {
        "id": "5WViIqvX1eKT"
      },
      "source": [
        "# 1. Introduction\n",
        "\n",
        "\n",
        "\n",
        "---\n",
        "\n",
        "\n",
        "\n",
        "#### 1.1 Why Time Series?\n",
        "\n",
        "Time Series Forecasting is an important art of machine learning with applications in the fields such as finance, energy and climate modeling. High-dimensional time series involve complex relationships and interactions among variables. Neural networks and decision trees ensemble models are both prominent classes of machine learning models widely applied to time series forecasting, where they have demonstrated incredible results.\n",
        "\n",
        "#### 1.2 Why Neural Based Models?\n",
        "\n",
        "Neural networks are characterized for their ability\n",
        "to learn hierarchical data representations by applying sequences of non-linear transforma-\n",
        "tions. In addition neural network models are differentiable, allowing us to use techniques like back propagation with gradient descent or stochastic gradient descent (SGD). With\n",
        "these methods the weights and biases of the model can be optimized efficiently even on\n",
        "large data sets.\n",
        "\n",
        "#### 1.3 Why Tree Based Models?\n",
        "Tree-Based Models learn by recursively splitting the feature space and aiming to minimize some sort of impurity within the child nodes, so that linear models will be sufficient to explain these subsets of data.\n",
        "\n",
        "\n",
        "#### 1.4 Our Contribution\n",
        "In the Prototype, we explore a neural-tree based model for time-series forecasting. Besides, we compare and extend of existing neural tree based models in forecasting. Also we will summarise their performance and dis- and advantages."
      ]
    },
    {
      "cell_type": "markdown",
      "metadata": {
        "id": "LwiC8EnD49Pk"
      },
      "source": [
        "#2 Literature Review\n",
        "\n",
        "..."
      ]
    },
    {
      "cell_type": "markdown",
      "metadata": {
        "id": "et0U5Aye5Noc"
      },
      "source": [
        "# 3 Experimental Design\n",
        "\n",
        "This section gives an overview of the dataset of weather time series dataset, which is recorded by `the Max Planck Institute for Biogeochemistry` and included in Tensorflow. Moreover, the data was recorded by every 10 mintues with 14 features, beginning from 2003. For efficiency, we only use the data between 2009 and 2016. We chose the data because it has periodicity and doesn't affect by many immeasurable factor.We do some exploratory data analysis and prepare the dataset.\n",
        "\n",
        "## 3.1 Exploratory Data Analysis & Data Organization\n",
        "\n",
        "Here shows the first five rows of the data and we prefer to train and predict them hourly. So we changed the intervals from 10 mintues to one hours."
      ]
    },
    {
      "cell_type": "code",
      "execution_count": null,
      "metadata": {
        "id": "a25oBgNSxYto",
        "colab": {
          "base_uri": "https://localhost:8080/"
        },
        "outputId": "e895c8b2-c9f7-465f-ce1f-ca59af1036f8"
      },
      "outputs": [
        {
          "output_type": "stream",
          "name": "stdout",
          "text": [
            "Downloading data from https://storage.googleapis.com/tensorflow/tf-keras-datasets/jena_climate_2009_2016.csv.zip\n",
            "13568290/13568290 [==============================] - 0s 0us/step\n"
          ]
        }
      ],
      "source": [
        "zip_path = tf.keras.utils.get_file(\n",
        "    origin='https://storage.googleapis.com/tensorflow/tf-keras-datasets/jena_climate_2009_2016.csv.zip',\n",
        "    fname='jena_climate_2009_2016.csv.zip',\n",
        "    extract=True)\n",
        "csv_path, _ = os.path.splitext(zip_path)"
      ]
    },
    {
      "cell_type": "code",
      "execution_count": null,
      "metadata": {
        "id": "HR5NOf0Axa6e",
        "colab": {
          "base_uri": "https://localhost:8080/",
          "height": 223
        },
        "outputId": "c226aa3b-3898-4157-84c0-9c248776fc4a"
      },
      "outputs": [
        {
          "output_type": "execute_result",
          "data": {
            "text/plain": [
              "    p (mbar)  T (degC)  Tpot (K)  Tdew (degC)  rh (%)  VPmax (mbar)  \\\n",
              "5     996.50     -8.05    265.38        -8.78    94.4          3.33   \n",
              "11    996.62     -8.88    264.54        -9.77    93.2          3.12   \n",
              "17    996.84     -8.81    264.59        -9.66    93.5          3.13   \n",
              "23    996.99     -9.05    264.34       -10.02    92.6          3.07   \n",
              "29    997.46     -9.63    263.72       -10.65    92.2          2.94   \n",
              "\n",
              "    VPact (mbar)  VPdef (mbar)  sh (g/kg)  H2OC (mmol/mol)  rho (g/m**3)  \\\n",
              "5           3.14          0.19       1.96             3.15       1307.86   \n",
              "11          2.90          0.21       1.81             2.91       1312.25   \n",
              "17          2.93          0.20       1.83             2.94       1312.18   \n",
              "23          2.85          0.23       1.78             2.85       1313.61   \n",
              "29          2.71          0.23       1.69             2.71       1317.19   \n",
              "\n",
              "    wv (m/s)  max. wv (m/s)  wd (deg)  \n",
              "5       0.21           0.63     192.7  \n",
              "11      0.25           0.63     190.3  \n",
              "17      0.18           0.63     167.2  \n",
              "23      0.10           0.38     240.0  \n",
              "29      0.40           0.88     157.0  "
            ],
            "text/html": [
              "\n",
              "  <div id=\"df-b98106d3-eeba-4110-97cf-72b882806dd6\" class=\"colab-df-container\">\n",
              "    <div>\n",
              "<style scoped>\n",
              "    .dataframe tbody tr th:only-of-type {\n",
              "        vertical-align: middle;\n",
              "    }\n",
              "\n",
              "    .dataframe tbody tr th {\n",
              "        vertical-align: top;\n",
              "    }\n",
              "\n",
              "    .dataframe thead th {\n",
              "        text-align: right;\n",
              "    }\n",
              "</style>\n",
              "<table border=\"1\" class=\"dataframe\">\n",
              "  <thead>\n",
              "    <tr style=\"text-align: right;\">\n",
              "      <th></th>\n",
              "      <th>p (mbar)</th>\n",
              "      <th>T (degC)</th>\n",
              "      <th>Tpot (K)</th>\n",
              "      <th>Tdew (degC)</th>\n",
              "      <th>rh (%)</th>\n",
              "      <th>VPmax (mbar)</th>\n",
              "      <th>VPact (mbar)</th>\n",
              "      <th>VPdef (mbar)</th>\n",
              "      <th>sh (g/kg)</th>\n",
              "      <th>H2OC (mmol/mol)</th>\n",
              "      <th>rho (g/m**3)</th>\n",
              "      <th>wv (m/s)</th>\n",
              "      <th>max. wv (m/s)</th>\n",
              "      <th>wd (deg)</th>\n",
              "    </tr>\n",
              "  </thead>\n",
              "  <tbody>\n",
              "    <tr>\n",
              "      <th>5</th>\n",
              "      <td>996.50</td>\n",
              "      <td>-8.05</td>\n",
              "      <td>265.38</td>\n",
              "      <td>-8.78</td>\n",
              "      <td>94.4</td>\n",
              "      <td>3.33</td>\n",
              "      <td>3.14</td>\n",
              "      <td>0.19</td>\n",
              "      <td>1.96</td>\n",
              "      <td>3.15</td>\n",
              "      <td>1307.86</td>\n",
              "      <td>0.21</td>\n",
              "      <td>0.63</td>\n",
              "      <td>192.7</td>\n",
              "    </tr>\n",
              "    <tr>\n",
              "      <th>11</th>\n",
              "      <td>996.62</td>\n",
              "      <td>-8.88</td>\n",
              "      <td>264.54</td>\n",
              "      <td>-9.77</td>\n",
              "      <td>93.2</td>\n",
              "      <td>3.12</td>\n",
              "      <td>2.90</td>\n",
              "      <td>0.21</td>\n",
              "      <td>1.81</td>\n",
              "      <td>2.91</td>\n",
              "      <td>1312.25</td>\n",
              "      <td>0.25</td>\n",
              "      <td>0.63</td>\n",
              "      <td>190.3</td>\n",
              "    </tr>\n",
              "    <tr>\n",
              "      <th>17</th>\n",
              "      <td>996.84</td>\n",
              "      <td>-8.81</td>\n",
              "      <td>264.59</td>\n",
              "      <td>-9.66</td>\n",
              "      <td>93.5</td>\n",
              "      <td>3.13</td>\n",
              "      <td>2.93</td>\n",
              "      <td>0.20</td>\n",
              "      <td>1.83</td>\n",
              "      <td>2.94</td>\n",
              "      <td>1312.18</td>\n",
              "      <td>0.18</td>\n",
              "      <td>0.63</td>\n",
              "      <td>167.2</td>\n",
              "    </tr>\n",
              "    <tr>\n",
              "      <th>23</th>\n",
              "      <td>996.99</td>\n",
              "      <td>-9.05</td>\n",
              "      <td>264.34</td>\n",
              "      <td>-10.02</td>\n",
              "      <td>92.6</td>\n",
              "      <td>3.07</td>\n",
              "      <td>2.85</td>\n",
              "      <td>0.23</td>\n",
              "      <td>1.78</td>\n",
              "      <td>2.85</td>\n",
              "      <td>1313.61</td>\n",
              "      <td>0.10</td>\n",
              "      <td>0.38</td>\n",
              "      <td>240.0</td>\n",
              "    </tr>\n",
              "    <tr>\n",
              "      <th>29</th>\n",
              "      <td>997.46</td>\n",
              "      <td>-9.63</td>\n",
              "      <td>263.72</td>\n",
              "      <td>-10.65</td>\n",
              "      <td>92.2</td>\n",
              "      <td>2.94</td>\n",
              "      <td>2.71</td>\n",
              "      <td>0.23</td>\n",
              "      <td>1.69</td>\n",
              "      <td>2.71</td>\n",
              "      <td>1317.19</td>\n",
              "      <td>0.40</td>\n",
              "      <td>0.88</td>\n",
              "      <td>157.0</td>\n",
              "    </tr>\n",
              "  </tbody>\n",
              "</table>\n",
              "</div>\n",
              "    <div class=\"colab-df-buttons\">\n",
              "\n",
              "  <div class=\"colab-df-container\">\n",
              "    <button class=\"colab-df-convert\" onclick=\"convertToInteractive('df-b98106d3-eeba-4110-97cf-72b882806dd6')\"\n",
              "            title=\"Convert this dataframe to an interactive table.\"\n",
              "            style=\"display:none;\">\n",
              "\n",
              "  <svg xmlns=\"http://www.w3.org/2000/svg\" height=\"24px\" viewBox=\"0 -960 960 960\">\n",
              "    <path d=\"M120-120v-720h720v720H120Zm60-500h600v-160H180v160Zm220 220h160v-160H400v160Zm0 220h160v-160H400v160ZM180-400h160v-160H180v160Zm440 0h160v-160H620v160ZM180-180h160v-160H180v160Zm440 0h160v-160H620v160Z\"/>\n",
              "  </svg>\n",
              "    </button>\n",
              "\n",
              "  <style>\n",
              "    .colab-df-container {\n",
              "      display:flex;\n",
              "      gap: 12px;\n",
              "    }\n",
              "\n",
              "    .colab-df-convert {\n",
              "      background-color: #E8F0FE;\n",
              "      border: none;\n",
              "      border-radius: 50%;\n",
              "      cursor: pointer;\n",
              "      display: none;\n",
              "      fill: #1967D2;\n",
              "      height: 32px;\n",
              "      padding: 0 0 0 0;\n",
              "      width: 32px;\n",
              "    }\n",
              "\n",
              "    .colab-df-convert:hover {\n",
              "      background-color: #E2EBFA;\n",
              "      box-shadow: 0px 1px 2px rgba(60, 64, 67, 0.3), 0px 1px 3px 1px rgba(60, 64, 67, 0.15);\n",
              "      fill: #174EA6;\n",
              "    }\n",
              "\n",
              "    .colab-df-buttons div {\n",
              "      margin-bottom: 4px;\n",
              "    }\n",
              "\n",
              "    [theme=dark] .colab-df-convert {\n",
              "      background-color: #3B4455;\n",
              "      fill: #D2E3FC;\n",
              "    }\n",
              "\n",
              "    [theme=dark] .colab-df-convert:hover {\n",
              "      background-color: #434B5C;\n",
              "      box-shadow: 0px 1px 3px 1px rgba(0, 0, 0, 0.15);\n",
              "      filter: drop-shadow(0px 1px 2px rgba(0, 0, 0, 0.3));\n",
              "      fill: #FFFFFF;\n",
              "    }\n",
              "  </style>\n",
              "\n",
              "    <script>\n",
              "      const buttonEl =\n",
              "        document.querySelector('#df-b98106d3-eeba-4110-97cf-72b882806dd6 button.colab-df-convert');\n",
              "      buttonEl.style.display =\n",
              "        google.colab.kernel.accessAllowed ? 'block' : 'none';\n",
              "\n",
              "      async function convertToInteractive(key) {\n",
              "        const element = document.querySelector('#df-b98106d3-eeba-4110-97cf-72b882806dd6');\n",
              "        const dataTable =\n",
              "          await google.colab.kernel.invokeFunction('convertToInteractive',\n",
              "                                                    [key], {});\n",
              "        if (!dataTable) return;\n",
              "\n",
              "        const docLinkHtml = 'Like what you see? Visit the ' +\n",
              "          '<a target=\"_blank\" href=https://colab.research.google.com/notebooks/data_table.ipynb>data table notebook</a>'\n",
              "          + ' to learn more about interactive tables.';\n",
              "        element.innerHTML = '';\n",
              "        dataTable['output_type'] = 'display_data';\n",
              "        await google.colab.output.renderOutput(dataTable, element);\n",
              "        const docLink = document.createElement('div');\n",
              "        docLink.innerHTML = docLinkHtml;\n",
              "        element.appendChild(docLink);\n",
              "      }\n",
              "    </script>\n",
              "  </div>\n",
              "\n",
              "\n",
              "<div id=\"df-2529f1e2-679c-4ce2-8bde-368e7c68ae15\">\n",
              "  <button class=\"colab-df-quickchart\" onclick=\"quickchart('df-2529f1e2-679c-4ce2-8bde-368e7c68ae15')\"\n",
              "            title=\"Suggest charts\"\n",
              "            style=\"display:none;\">\n",
              "\n",
              "<svg xmlns=\"http://www.w3.org/2000/svg\" height=\"24px\"viewBox=\"0 0 24 24\"\n",
              "     width=\"24px\">\n",
              "    <g>\n",
              "        <path d=\"M19 3H5c-1.1 0-2 .9-2 2v14c0 1.1.9 2 2 2h14c1.1 0 2-.9 2-2V5c0-1.1-.9-2-2-2zM9 17H7v-7h2v7zm4 0h-2V7h2v10zm4 0h-2v-4h2v4z\"/>\n",
              "    </g>\n",
              "</svg>\n",
              "  </button>\n",
              "\n",
              "<style>\n",
              "  .colab-df-quickchart {\n",
              "      --bg-color: #E8F0FE;\n",
              "      --fill-color: #1967D2;\n",
              "      --hover-bg-color: #E2EBFA;\n",
              "      --hover-fill-color: #174EA6;\n",
              "      --disabled-fill-color: #AAA;\n",
              "      --disabled-bg-color: #DDD;\n",
              "  }\n",
              "\n",
              "  [theme=dark] .colab-df-quickchart {\n",
              "      --bg-color: #3B4455;\n",
              "      --fill-color: #D2E3FC;\n",
              "      --hover-bg-color: #434B5C;\n",
              "      --hover-fill-color: #FFFFFF;\n",
              "      --disabled-bg-color: #3B4455;\n",
              "      --disabled-fill-color: #666;\n",
              "  }\n",
              "\n",
              "  .colab-df-quickchart {\n",
              "    background-color: var(--bg-color);\n",
              "    border: none;\n",
              "    border-radius: 50%;\n",
              "    cursor: pointer;\n",
              "    display: none;\n",
              "    fill: var(--fill-color);\n",
              "    height: 32px;\n",
              "    padding: 0;\n",
              "    width: 32px;\n",
              "  }\n",
              "\n",
              "  .colab-df-quickchart:hover {\n",
              "    background-color: var(--hover-bg-color);\n",
              "    box-shadow: 0 1px 2px rgba(60, 64, 67, 0.3), 0 1px 3px 1px rgba(60, 64, 67, 0.15);\n",
              "    fill: var(--button-hover-fill-color);\n",
              "  }\n",
              "\n",
              "  .colab-df-quickchart-complete:disabled,\n",
              "  .colab-df-quickchart-complete:disabled:hover {\n",
              "    background-color: var(--disabled-bg-color);\n",
              "    fill: var(--disabled-fill-color);\n",
              "    box-shadow: none;\n",
              "  }\n",
              "\n",
              "  .colab-df-spinner {\n",
              "    border: 2px solid var(--fill-color);\n",
              "    border-color: transparent;\n",
              "    border-bottom-color: var(--fill-color);\n",
              "    animation:\n",
              "      spin 1s steps(1) infinite;\n",
              "  }\n",
              "\n",
              "  @keyframes spin {\n",
              "    0% {\n",
              "      border-color: transparent;\n",
              "      border-bottom-color: var(--fill-color);\n",
              "      border-left-color: var(--fill-color);\n",
              "    }\n",
              "    20% {\n",
              "      border-color: transparent;\n",
              "      border-left-color: var(--fill-color);\n",
              "      border-top-color: var(--fill-color);\n",
              "    }\n",
              "    30% {\n",
              "      border-color: transparent;\n",
              "      border-left-color: var(--fill-color);\n",
              "      border-top-color: var(--fill-color);\n",
              "      border-right-color: var(--fill-color);\n",
              "    }\n",
              "    40% {\n",
              "      border-color: transparent;\n",
              "      border-right-color: var(--fill-color);\n",
              "      border-top-color: var(--fill-color);\n",
              "    }\n",
              "    60% {\n",
              "      border-color: transparent;\n",
              "      border-right-color: var(--fill-color);\n",
              "    }\n",
              "    80% {\n",
              "      border-color: transparent;\n",
              "      border-right-color: var(--fill-color);\n",
              "      border-bottom-color: var(--fill-color);\n",
              "    }\n",
              "    90% {\n",
              "      border-color: transparent;\n",
              "      border-bottom-color: var(--fill-color);\n",
              "    }\n",
              "  }\n",
              "</style>\n",
              "\n",
              "  <script>\n",
              "    async function quickchart(key) {\n",
              "      const quickchartButtonEl =\n",
              "        document.querySelector('#' + key + ' button');\n",
              "      quickchartButtonEl.disabled = true;  // To prevent multiple clicks.\n",
              "      quickchartButtonEl.classList.add('colab-df-spinner');\n",
              "      try {\n",
              "        const charts = await google.colab.kernel.invokeFunction(\n",
              "            'suggestCharts', [key], {});\n",
              "      } catch (error) {\n",
              "        console.error('Error during call to suggestCharts:', error);\n",
              "      }\n",
              "      quickchartButtonEl.classList.remove('colab-df-spinner');\n",
              "      quickchartButtonEl.classList.add('colab-df-quickchart-complete');\n",
              "    }\n",
              "    (() => {\n",
              "      let quickchartButtonEl =\n",
              "        document.querySelector('#df-2529f1e2-679c-4ce2-8bde-368e7c68ae15 button');\n",
              "      quickchartButtonEl.style.display =\n",
              "        google.colab.kernel.accessAllowed ? 'block' : 'none';\n",
              "    })();\n",
              "  </script>\n",
              "</div>\n",
              "    </div>\n",
              "  </div>\n"
            ]
          },
          "metadata": {},
          "execution_count": 3
        }
      ],
      "source": [
        "df = pd.read_csv(csv_path)\n",
        "# Slice [start:stop:step], starting from index 5 take every 6th record. This is to make the frequency of data every one hour.\n",
        "df = df[5::6]\n",
        "\n",
        "date_time = pd.to_datetime(df.pop('Date Time'), format='%d.%m.%Y %H:%M:%S')\n",
        "df.head()"
      ]
    },
    {
      "cell_type": "markdown",
      "metadata": {
        "id": "kE8cjjZk5nth"
      },
      "source": [
        "Here the changes of some features by time can be seen.\n",
        "\n",
        "For the first three graphs, they show the changes in the whole timeline when others three show the changes in twenty days from Jan.2. to Jan. 21. in 2009. As you can see, temperature changed periodly.\n",
        "\n",
        "Temperatures reached their highest in the middle and lowest in the begining as well as end of each year. There were significant lowest at the begining of 2009 and 2012. As for the 20 days data, there were no trend of temperature, but between Jan.7 to Jan.13 it became warmer steadily.\n"
      ]
    },
    {
      "cell_type": "code",
      "execution_count": null,
      "metadata": {
        "id": "DzQJ0Rv_xd5H",
        "colab": {
          "base_uri": "https://localhost:8080/",
          "height": 1000
        },
        "outputId": "44d4d4bd-e7f8-4900-c11f-ca6360b9a237"
      },
      "outputs": [
        {
          "output_type": "display_data",
          "data": {
            "text/plain": [
              "<Figure size 800x600 with 1 Axes>"
            ],
            "image/png": "[encoded data removed]"
          },
          "metadata": {}
        },
        {
          "output_type": "display_data",
          "data": {
            "text/plain": [
              "<Figure size 800x600 with 1 Axes>"
            ],
            "image/png": "[encoded data removed]"
          },
          "metadata": {}
        }
      ],
      "source": [
        "plot_cols = ['T (degC)']\n",
        "plot_features = df[plot_cols]\n",
        "plot_features.index = date_time\n",
        "_ = plot_features.plot(subplots=True)\n",
        "\n",
        "plot_features = df[plot_cols][:480]\n",
        "plot_features.index = date_time[:480]\n",
        "_ = plot_features.plot(subplots=True)"
      ]
    },
    {
      "cell_type": "markdown",
      "metadata": {
        "id": "0PnIGRPD2Lwq"
      },
      "source": [
        "## 3.2 Data Preprocessing\n",
        "In this part, we did feature engineering and data split as preparation for training neural networks.\n",
        "\n",
        "### 3.2.1 Feature Engineering\n",
        "Here we combine wind direction with wind velocity and clean the errors by changing the `min` and `max`."
      ]
    },
    {
      "cell_type": "code",
      "execution_count": null,
      "metadata": {
        "id": "dEEBhW5NxgnW",
        "colab": {
          "base_uri": "https://localhost:8080/"
        },
        "outputId": "daded7b5-b5b9-4d03-e9b8-d247f92c4f21"
      },
      "outputs": [
        {
          "output_type": "execute_result",
          "data": {
            "text/plain": [
              "0.0"
            ]
          },
          "metadata": {},
          "execution_count": 5
        }
      ],
      "source": [
        "wv = df['wv (m/s)']\n",
        "bad_wv = wv == -9999.0\n",
        "wv[bad_wv] = 0.0\n",
        "\n",
        "max_wv = df['max. wv (m/s)']\n",
        "bad_max_wv = max_wv == -9999.0\n",
        "max_wv[bad_max_wv] = 0.0\n",
        "\n",
        "# The above inplace edits are reflected in the DataFrame.\n",
        "df['wv (m/s)'].min()"
      ]
    },
    {
      "cell_type": "markdown",
      "metadata": {
        "id": "JldUy5Ri6IjK"
      },
      "source": [
        "For easier interpretation, we convert the wind direction and velocity columns to a wind vector."
      ]
    },
    {
      "cell_type": "code",
      "execution_count": null,
      "metadata": {
        "id": "73rDMptpxjgO"
      },
      "outputs": [],
      "source": [
        "wv = df.pop('wv (m/s)')\n",
        "max_wv = df.pop('max. wv (m/s)')\n",
        "\n",
        "# Convert to radians.\n",
        "wd_rad = df.pop('wd (deg)')*np.pi / 180\n",
        "\n",
        "# Calculate the wind x and y components.\n",
        "df['Wx'] = wv*np.cos(wd_rad)\n",
        "df['Wy'] = wv*np.sin(wd_rad)\n",
        "\n",
        "# Calculate the max wind x and y components.\n",
        "df['max Wx'] = max_wv*np.cos(wd_rad)\n",
        "df['max Wy'] = max_wv*np.sin(wd_rad)"
      ]
    },
    {
      "cell_type": "markdown",
      "metadata": {
        "id": "ZJUNLMNm2oPK"
      },
      "source": [
        "The time in seconds is not a good model input. Considering weather data, it has daily and yearly periodicity, thus, we converted Datetime columns into sin and cos functions for the day and year."
      ]
    },
    {
      "cell_type": "code",
      "execution_count": null,
      "metadata": {
        "id": "XJubnM5Qxmhr"
      },
      "outputs": [],
      "source": [
        "timestamp_s = date_time.map(pd.Timestamp.timestamp)\n",
        "day = 24*60*60\n",
        "year = (365.2425)*day\n",
        "\n",
        "df['Day sin'] = np.sin(timestamp_s * (2 * np.pi / day))\n",
        "df['Day cos'] = np.cos(timestamp_s * (2 * np.pi / day))\n",
        "df['Year sin'] = np.sin(timestamp_s * (2 * np.pi / year))\n",
        "df['Year cos'] = np.cos(timestamp_s * (2 * np.pi / year))"
      ]
    },
    {
      "cell_type": "markdown",
      "metadata": {
        "id": "sdY5In6s6RN7"
      },
      "source": [
        "Here we split the data to training, validation and test with 70%, 20% and 10%."
      ]
    },
    {
      "cell_type": "code",
      "execution_count": null,
      "metadata": {
        "id": "kZ3erFlExovN"
      },
      "outputs": [],
      "source": [
        "column_indices = {name: i for i, name in enumerate(df.columns)}\n",
        "\n",
        "n = len(df)\n",
        "train_df = df[0:int(n*0.7)]\n",
        "val_df = df[int(n*0.7):int(n*0.9)]\n",
        "test_df = df[int(n*0.9):]\n",
        "\n",
        "num_features = df.shape[1]"
      ]
    },
    {
      "cell_type": "markdown",
      "metadata": {
        "id": "kIg-PkOx6Ug9"
      },
      "source": [
        "Before training a neural network, we scaled the data by normalization. Here we used simple average."
      ]
    },
    {
      "cell_type": "code",
      "execution_count": null,
      "metadata": {
        "id": "VY0tzDL3xsWz"
      },
      "outputs": [],
      "source": [
        "train_mean = train_df.mean()\n",
        "train_std = train_df.std()\n",
        "\n",
        "train_df = (train_df - train_mean) / train_std\n",
        "val_df = (val_df - train_mean) / train_std\n",
        "test_df = (test_df - train_mean) / train_std"
      ]
    },
    {
      "cell_type": "markdown",
      "metadata": {
        "id": "PNKKSbj2zwKz"
      },
      "source": [
        "### 3.2.2 Data windowing\n",
        "We predicted a set of data based on a window of consecutive samples. So in the following code, we defined a class of window generator, which includes:\n",
        "\n",
        "1. Handling the indexes and offsets.\n",
        "2. Splitting windows, which converts the list of consecutibe inputs to a window of inputs and labels.\n",
        "3. Create an example plot.\n",
        "4. Create training, validation and test Dataset."
      ]
    },
    {
      "cell_type": "code",
      "execution_count": null,
      "metadata": {
        "id": "ebsweAODxw5t"
      },
      "outputs": [],
      "source": [
        "class WindowGenerator():\n",
        "    def __init__(self, input_width, label_width, shift,\n",
        "               train_df=train_df, val_df=val_df, test_df=test_df,\n",
        "               label_columns=None):\n",
        "    # Store the raw data.\n",
        "        self.train_df = train_df\n",
        "        self.val_df = val_df\n",
        "        self.test_df = test_df\n",
        "\n",
        "        # Work out the label column indices.\n",
        "        self.label_columns = label_columns\n",
        "        if label_columns is not None:\n",
        "          self.label_columns_indices = {name: i for i, name in\n",
        "                                    enumerate(label_columns)}\n",
        "        self.column_indices = {name: i for i, name in\n",
        "                           enumerate(train_df.columns)}\n",
        "\n",
        "        # Work out the window parameters.\n",
        "        self.input_width = input_width\n",
        "        self.label_width = label_width\n",
        "        self.shift = shift\n",
        "\n",
        "        self.total_window_size = input_width + shift\n",
        "\n",
        "        self.input_slice = slice(0, input_width)\n",
        "        self.input_indices = np.arange(self.total_window_size)[self.input_slice]\n",
        "\n",
        "        self.label_start = self.total_window_size - self.label_width\n",
        "        self.labels_slice = slice(self.label_start, None)\n",
        "        self.label_indices = np.arange(self.total_window_size)[self.labels_slice]\n",
        "\n",
        "    def __repr__(self):\n",
        "        return '\\n'.join([\n",
        "        f'Total window size: {self.total_window_size}',\n",
        "        f'Input indices: {self.input_indices}',\n",
        "        f'Label indices: {self.label_indices}',\n",
        "        f'Label column name(s): {self.label_columns}'])\n",
        "\n",
        "    def split_window(self, features):\n",
        "        inputs = features[:, self.input_slice, :]\n",
        "        labels = features[:, self.labels_slice, :]\n",
        "\n",
        "        if self.label_columns is not None:\n",
        "            labels = tf.stack(\n",
        "                [labels[:, :, self.column_indices[name]] for name in self.label_columns],\n",
        "                axis=-1)\n",
        "\n",
        "        # Slicing doesn't preserve static shape information, so set the shapes manually.\n",
        "        # This way the `tf.data.Datasets` are easier to inspect.\n",
        "        inputs.set_shape([None, self.input_width, None])\n",
        "        labels.set_shape([None, self.label_width, None])\n",
        "\n",
        "        return inputs, labels\n",
        "# Create An Example Plot\n",
        "    def plot(self, model=None, plot_col='T (degC)', max_subplots=3):\n",
        "        inputs, labels = self.example\n",
        "        plt.figure(figsize=(12, 8))\n",
        "        plot_col_index = self.column_indices[plot_col]\n",
        "        max_n = min(max_subplots, len(inputs))\n",
        "        for n in range(max_n):\n",
        "            plt.subplot(max_n, 1, n+1)\n",
        "            plt.ylabel(f'{plot_col} [normed]')\n",
        "            plt.plot(self.input_indices, inputs[n, :, plot_col_index],\n",
        "                 label='Inputs', marker='.', zorder=-10)\n",
        "\n",
        "            if self.label_columns:\n",
        "                label_col_index = self.label_columns_indices.get(plot_col, None)\n",
        "            else:\n",
        "                label_col_index = plot_col_index\n",
        "\n",
        "            if label_col_index is None:\n",
        "                continue\n",
        "\n",
        "            plt.scatter(self.label_indices, labels[n, :, label_col_index],\n",
        "                    edgecolors='k', label='Labels', c='#2ca02c', s=64)\n",
        "            if model is not None:\n",
        "                predictions = model(inputs)\n",
        "                plt.scatter(self.label_indices, predictions[n, :, label_col_index],\n",
        "                      marker='X', edgecolors='k', label='Predictions',\n",
        "                      c='#ff7f0e', s=64)\n",
        "\n",
        "            if n == 0:\n",
        "                plt.legend()\n",
        "\n",
        "        plt.xlabel('Time [h]')\n",
        "# Create Training, Validation Test Dataset\n",
        "    def make_dataset(self, data):\n",
        "        data = np.array(data, dtype=np.float32)\n",
        "        ds = tf.keras.utils.timeseries_dataset_from_array(\n",
        "            data=data,\n",
        "            targets=None,\n",
        "            sequence_length=self.total_window_size,\n",
        "            sequence_stride=1,\n",
        "            shuffle=False,\n",
        "            batch_size=32)\n",
        "\n",
        "        ds = ds.map(self.split_window)\n",
        "        return ds\n",
        "\n",
        "    @property\n",
        "    def train(self):\n",
        "        return self.make_dataset(self.train_df)\n",
        "\n",
        "    @property\n",
        "    def val(self):\n",
        "        return self.make_dataset(self.val_df)\n",
        "\n",
        "    @property\n",
        "    def test(self):\n",
        "        return self.make_dataset(self.test_df)\n",
        "\n",
        "    @property\n",
        "    def example(self):\n",
        "        \"\"\"Get and cache an example batch of `inputs, labels` for plotting.\"\"\"\n",
        "        result = getattr(self, '_example', None)\n",
        "        if result is None:\n",
        "            # No example batch was found, so get one from the `.train` dataset\n",
        "            result = next(iter(self.train))\n",
        "            # And cache it for next time\n",
        "            self._example = result\n",
        "        return result\n"
      ]
    },
    {
      "cell_type": "markdown",
      "metadata": {
        "id": "cUDa1zt-6ivN"
      },
      "source": [
        "We created two windows， `w1` shows a single prediction 24 hours into the future, given 24 hours of history. `w2` shows a prediction one hour into the future, given six hours of history."
      ]
    },
    {
      "cell_type": "code",
      "execution_count": null,
      "metadata": {
        "id": "3m_gGxhPx5S6",
        "colab": {
          "base_uri": "https://localhost:8080/"
        },
        "outputId": "992fbb41-595e-49a1-fb1a-4ddfcbc9a058"
      },
      "outputs": [
        {
          "output_type": "execute_result",
          "data": {
            "text/plain": [
              "Total window size: 48\n",
              "Input indices: [ 0  1  2  3  4  5  6  7  8  9 10 11 12 13 14 15 16 17 18 19 20 21 22 23]\n",
              "Label indices: [47]\n",
              "Label column name(s): ['T (degC)']"
            ]
          },
          "metadata": {},
          "execution_count": 11
        }
      ],
      "source": [
        "w1 = WindowGenerator(input_width=24, label_width=1, shift=24,\n",
        "                     label_columns=['T (degC)'])\n",
        "w1"
      ]
    },
    {
      "cell_type": "code",
      "execution_count": null,
      "metadata": {
        "id": "4b9U6efBx_Ki",
        "colab": {
          "base_uri": "https://localhost:8080/"
        },
        "outputId": "e7f2a15d-ae16-4097-baf7-5189cf163870"
      },
      "outputs": [
        {
          "output_type": "execute_result",
          "data": {
            "text/plain": [
              "Total window size: 7\n",
              "Input indices: [0 1 2 3 4 5]\n",
              "Label indices: [6]\n",
              "Label column name(s): ['T (degC)']"
            ]
          },
          "metadata": {},
          "execution_count": 32
        }
      ],
      "source": [
        "w2 = WindowGenerator(input_width=6, label_width=1, shift=1,\n",
        "                     label_columns=['T (degC)'])\n",
        "w2"
      ]
    },
    {
      "cell_type": "markdown",
      "metadata": {
        "id": "Tw3ElY220SgN"
      },
      "source": [
        "Lets take a look into train dataset"
      ]
    },
    {
      "cell_type": "code",
      "execution_count": null,
      "metadata": {
        "id": "aLqFlWxfyLGt",
        "colab": {
          "base_uri": "https://localhost:8080/"
        },
        "outputId": "003da4b2-3a56-425a-b2e9-8a324ee76779"
      },
      "outputs": [
        {
          "output_type": "execute_result",
          "data": {
            "text/plain": [
              "(TensorSpec(shape=(None, 6, 19), dtype=tf.float32, name=None),\n",
              " TensorSpec(shape=(None, 1, 1), dtype=tf.float32, name=None))"
            ]
          },
          "metadata": {},
          "execution_count": 33
        }
      ],
      "source": [
        "# Each element is an (inputs, label) pair.\n",
        "w2.train.element_spec"
      ]
    },
    {
      "cell_type": "code",
      "execution_count": null,
      "metadata": {
        "id": "RS_UOgakyNqq",
        "colab": {
          "base_uri": "https://localhost:8080/"
        },
        "outputId": "485830c9-e7b6-4423-e5aa-426db167419a"
      },
      "outputs": [
        {
          "output_type": "stream",
          "name": "stdout",
          "text": [
            "Inputs shape (batch, time, features): (32, 6, 19)\n",
            "Labels shape (batch, time, features): (32, 1, 1)\n"
          ]
        }
      ],
      "source": [
        "for example_inputs, example_labels in w2.train.take(1):\n",
        "  print(f'Inputs shape (batch, time, features): {example_inputs.shape}')\n",
        "  print(f'Labels shape (batch, time, features): {example_labels.shape}')"
      ]
    },
    {
      "cell_type": "markdown",
      "metadata": {
        "id": "kTq5rTAe0bpZ"
      },
      "source": [
        "Forecasting 1 hour into the future given the values of last 3 hour."
      ]
    },
    {
      "cell_type": "code",
      "execution_count": null,
      "metadata": {
        "id": "WBIjhnuu1JIx",
        "colab": {
          "base_uri": "https://localhost:8080/"
        },
        "outputId": "035a50a8-8c49-4e91-8338-6d168a48911a"
      },
      "outputs": [
        {
          "output_type": "execute_result",
          "data": {
            "text/plain": [
              "Total window size: 4\n",
              "Input indices: [0 1 2]\n",
              "Label indices: [3]\n",
              "Label column name(s): ['T (degC)']"
            ]
          },
          "metadata": {},
          "execution_count": 17
        }
      ],
      "source": [
        "three_step_window = WindowGenerator(\n",
        "    input_width=3, label_width=1, shift=1,\n",
        "    label_columns=['T (degC)'])\n",
        "three_step_window"
      ]
    },
    {
      "cell_type": "markdown",
      "metadata": {
        "id": "TK427z8T0jOq"
      },
      "source": [
        "Forecasting 1 hour into the future given the values of last 24 hour."
      ]
    },
    {
      "cell_type": "code",
      "execution_count": null,
      "metadata": {
        "id": "Q1Hm9mf5ySao",
        "colab": {
          "base_uri": "https://localhost:8080/"
        },
        "outputId": "db926c95-356d-4b59-c089-c8e310df28d3"
      },
      "outputs": [
        {
          "output_type": "execute_result",
          "data": {
            "text/plain": [
              "Total window size: 25\n",
              "Input indices: [ 0  1  2  3  4  5  6  7  8  9 10 11 12 13 14 15 16 17 18 19 20 21 22 23]\n",
              "Label indices: [24]\n",
              "Label column name(s): ['T (degC)']"
            ]
          },
          "metadata": {},
          "execution_count": 18
        }
      ],
      "source": [
        "wide_window = WindowGenerator(\n",
        "    input_width=24, label_width=1, shift=1,\n",
        "    label_columns=['T (degC)'])\n",
        "\n",
        "wide_window"
      ]
    },
    {
      "cell_type": "markdown",
      "metadata": {
        "id": "P2gbywqb65yz"
      },
      "source": [
        "This plot aligns inputs, labels, and (later) predictions based on the time that the item refers to."
      ]
    },
    {
      "cell_type": "code",
      "execution_count": null,
      "metadata": {
        "id": "Fl_DIJIn5Yan",
        "colab": {
          "base_uri": "https://localhost:8080/",
          "height": 696
        },
        "outputId": "0097fc3a-1162-405e-f144-b777f2e92c2f"
      },
      "outputs": [
        {
          "output_type": "display_data",
          "data": {
            "text/plain": [
              "<Figure size 1200x800 with 3 Axes>"
            ],
            "image/png": "[encoded data removed]"
          },
          "metadata": {}
        }
      ],
      "source": [
        "wide_window.plot()"
      ]
    },
    {
      "cell_type": "markdown",
      "metadata": {
        "id": "KFzpy58X6KaT"
      },
      "source": [
        "# 4 Methodology\n",
        "In this part, we will introduce the prototype of our model inspired by Deep Neural Decision Forest model introduced by P. Kontschieder. In an effort to refine the existing model, we're implementing a more advanced strategy that involves creating distinct neural networks for decision parameters at each level of the tree and sampling features uniquely for each node. This is a departure from the original design, where a single neural network was used for all decision parameters and feature sampling was conducted only once for all nodes.\n",
        "\n",
        "\n"
      ]
    },
    {
      "cell_type": "markdown",
      "metadata": {
        "id": "ApmxD2NHzefH"
      },
      "source": [
        "\n",
        "\n",
        "## 4.1 Deep Neural Decision Tree for Time Series\n",
        "\n",
        "The model is initialized with parameters like tree depth, number of features, used features rate, and output size. Output size determines the number of time steps to predict.\n",
        "The depth of the tree determines the number of levels and the total number of leaves. The forward pass of the model works as follows:\n",
        "\n",
        "1. Input Features and Initialization:\n",
        "\n",
        " The model is designed to process batches of time series data. Each input instance to the model should be a 3D tensor where the dimensions represent:\n",
        "\n",
        "- Batch Size: This dimension represents the number of time series sequences in a single batch. (represented as None)\n",
        "\n",
        "- Time Steps: This dimension also can be variable (represented as None). It corresponds to the length of the time series, i.e., the number of time points in each sequence.\n",
        "\n",
        "- Number of Features: This is the number of features from the dataset.\n",
        "\n",
        "The model generates a variable pi for leaf values initialization.\n",
        "2. Feature Masking:\n",
        "\n",
        "At each node, a used_features_mask is applied to randomly select a subset of the input features. This is to ensure that different features are used at different nodes, introducing variability in the decision process.\n",
        "3. Building Decision Functions:\n",
        "\n",
        "The model dynamically creates decision functions for each level of the tree, choosing between LSTM and CNN layers randomly for each level.\n",
        "Additional elements like dropout layers and global average pooling (for CNN paths) are added to enhance the model's capability to generalize.\n",
        "\n",
        "4. Routing Through the Tree:\n",
        "\n",
        "For each level of the tree, the model computes decisions(probabilities) for the left and right paths at each node.\n",
        "It involves applying the feature mask to the input features and then feeding these masked features into the respective decision functions (LSTM or CNN layers).\n",
        "The outputs of these functions determine the path (left or right) that each instance in the batch will take at the current node.\n",
        "These values are then updated based on the decisions made at each level, effectively guiding the instances through the tree. At the end mu values, which represent the probabilities for instances to reach the tree leaves, are found by iteratively performing stochastic routing through the tree levels.\n",
        "5. Final Output Calculation:\n",
        "\n",
        "After traversing all levels,\n",
        "the model computes the final output by matrix-multiplying the mu values(probabilities) with the forecasting values at leaf nodes (pi).\n"
      ]
    },
    {
      "cell_type": "markdown",
      "source": [
        "- Note: Minimum number of 3 time steps are required because of the CNN layer."
      ],
      "metadata": {
        "id": "vR9vaWfZc8rF"
      }
    },
    {
      "cell_type": "code",
      "execution_count": null,
      "metadata": {
        "id": "VCFrQ6nIyjg8"
      },
      "outputs": [],
      "source": [
        "\n",
        "class NeuralDecisionTreeForTimeSeries(keras.Model):\n",
        "    def __init__(self, depth,\n",
        "                 num_features,\n",
        "                 used_features_rate,\n",
        "                 output_size):\n",
        "        super().__init__()\n",
        "        self.depth = depth\n",
        "        self.num_leaves = 2 ** depth\n",
        "        self.output_size = output_size\n",
        "\n",
        "        # Create a mask for the randomly selected features.\n",
        "        self.num_features = num_features\n",
        "        self.used_features_rate = used_features_rate\n",
        "\n",
        "        # Leaf values initialization for forecasting\n",
        "        self.pi = tf.Variable(initial_value=tf.random_normal_initializer()(shape=[self.num_leaves, self.output_size]),\n",
        "                              dtype='float32', trainable=True)\n",
        "\n",
        "        self.decision_functions = {} # Dictionary to store decision models\n",
        "\n",
        "        activation_functions = ['relu', 'tanh', 'gelu', 'elu'] #SELU REQUIRES SPECIFIC WEIGHTS INITIALIZATION!\n",
        "        initial_size = 64  # Initial number of units/filters 'REDUCE THE HIDDEN SIZE!'\n",
        "        min_size = 16  # Minimum number of units/filters\n",
        "        for i in range(self.depth):\n",
        "            # Calculate the size for this depth\n",
        "            layer_size = max(min_size, initial_size // (2 ** i))\n",
        "            # Randomly choose an activation function\n",
        "            activation_function = random.choice(activation_functions) #OPTUNA!\n",
        "\n",
        "            # Randomly choose between LSTM and CNN for this level\n",
        "            if random.choice(['LSTM','CNN']) == 'LSTM':\n",
        "                first_layer = tf.keras.layers.LSTM(layer_size, return_sequences=False)\n",
        "                #WHEN SAMPLING WITH OPTUNA: each tree either with CNN or LSTM, or both, TO TEST!\n",
        "                #IN EACH HIDDEN LAYER: TUNE L1 & L2 REGULARIZATION1\n",
        "                use_global_avg_pooling = False\n",
        "            else:\n",
        "                first_layer = tf.keras.layers.Conv1D(filters=layer_size, kernel_size=3, activation=activation_function)\n",
        "                use_global_avg_pooling = True\n",
        "\n",
        "            # Create Sequential models for left and right\n",
        "            model_left = tf.keras.models.Sequential([first_layer])\n",
        "            model_right = tf.keras.models.Sequential([first_layer])\n",
        "\n",
        "            model_left.add(tf.keras.layers.Dropout(0.2))\n",
        "            model_right.add(tf.keras.layers.Dropout(0.2))\n",
        "            # Add GlobalAveragePooling layer conditionally for CNN\n",
        "            if use_global_avg_pooling:\n",
        "                model_left.add(tf.keras.layers.GlobalAveragePooling1D())\n",
        "                model_right.add(tf.keras.layers.GlobalAveragePooling1D())\n",
        "\n",
        "            # Add the final Dense layer\n",
        "            model_left.add(tf.keras.layers.Dense(units=2**i, activation='linear'))\n",
        "            model_right.add(tf.keras.layers.Dense(units=2**i, activation='linear'))\n",
        "\n",
        "            # Store the models\n",
        "            self.decision_functions[f'decision_fn_{i}_left'] = model_left\n",
        "            self.decision_functions[f'decision_fn_{i}_right'] = model_right\n",
        "\n",
        "    @tf.function\n",
        "    def call(self, features):\n",
        "        batch_size = tf.shape(features)[0]\n",
        "\n",
        "        num_used_features = int(self.num_features * self.used_features_rate)\n",
        "        one_hot = np.eye(num_features)\n",
        "        mu = tf.ones([batch_size, 1, 1])\n",
        "\n",
        "\n",
        "        # Traverse the tree in breadth-first order.\n",
        "        for level in range(self.depth):\n",
        "            decisions_left_all_nodes = []\n",
        "            decisions_right_all_nodes = []\n",
        "            # Get models for the current level\n",
        "            model_left = self.decision_functions[f'decision_fn_{level}_left']\n",
        "            model_right = self.decision_functions[f'decision_fn_{level}_right']\n",
        "            # Process each node at the current level\n",
        "            for node in range(2 ** level):\n",
        "                # Sample different features for each node\n",
        "                sampled_feature_indices = np.random.choice(\n",
        "                    np.arange(self.num_features), num_used_features, replace=False)\n",
        "                used_features_mask = one_hot[sampled_feature_indices]\n",
        "\n",
        "                # Apply the feature mask to the input features\n",
        "                sampled_features = tf.matmul(features, used_features_mask, transpose_b=True)\n",
        "\n",
        "                # Compute decisions for left and right paths for the current node\n",
        "                decisions_left_node = model_left(sampled_features)[:, node]\n",
        "                decisions_right_node = model_right(sampled_features)[:, node]\n",
        "\n",
        "                # Add an extra dimension to make each tensor 2D ([None] -> [None, 1])\n",
        "                decisions_left_node_2d = tf.expand_dims(decisions_left_node, -1)\n",
        "                decisions_right_node_2d = tf.expand_dims(decisions_right_node, -1)\n",
        "\n",
        "                # Store the expanded tensors\n",
        "                decisions_left_all_nodes.append(decisions_left_node_2d)\n",
        "                decisions_right_all_nodes.append(decisions_right_node_2d)\n",
        "\n",
        "            # Combine decisions from all nodes at the current level\n",
        "            decisions_left = tf.concat(decisions_left_all_nodes, axis=1)\n",
        "            decisions_right = tf.concat(decisions_right_all_nodes, axis=1)\n",
        "\n",
        "            # Stack and apply softmax\n",
        "            decisions = tf.stack([decisions_left, decisions_right], axis=-1)\n",
        "            decisions = tf.nn.softmax(decisions, axis=-1)\n",
        "\n",
        "            # Reshape and tile mu to match the current level's shape\n",
        "            mu = tf.reshape(mu, [batch_size, -1, 1])  # [batch_size, 2 ** (level-1), 1]\n",
        "            mu = tf.tile(mu, (1, 1, 2))  # [batch_size, 2 ** (level-1), 2]\n",
        "\n",
        "            # Multiply mu by decisions to update probabilities\n",
        "            mu = mu * decisions\n",
        "\n",
        "        mu = tf.reshape(mu, [batch_size, self.num_leaves])  # [batch_size, num_leaves]\n",
        "        predictions_for_leaves = self.pi  # [num_leaves, num_outputs]\n",
        "        outputs = tf.matmul(mu, predictions_for_leaves)  # [batch_size, num_outputs]\n",
        "        outputs=tf.reshape(outputs, [batch_size, self.output_size, 1])\n",
        "        return outputs"
      ]
    },
    {
      "cell_type": "markdown",
      "metadata": {
        "id": "CIVXPlr74-KO"
      },
      "source": [
        "# Class for the forest model"
      ]
    },
    {
      "cell_type": "markdown",
      "source": [
        "This is not ready for the prototype. In the future we will use a forest to make predicitons instead of one tree."
      ],
      "metadata": {
        "id": "xuckcpSvdJwS"
      }
    },
    {
      "cell_type": "code",
      "execution_count": null,
      "metadata": {
        "id": "5LXqcDZF4VyF"
      },
      "outputs": [],
      "source": [
        "\n",
        "class NeuralDecisionForest(keras.Model):\n",
        "    def __init__(self, num_trees, depth, num_features, used_features_rate, output_size):\n",
        "        super().__init__()\n",
        "        self.ensemble = []\n",
        "        # Initialize the ensemble by adding NeuralDecisionTree instances.\n",
        "        # Each tree will have its own randomly selected input features to use.\n",
        "        for _ in range(num_trees):\n",
        "            self.ensemble.append(\n",
        "                NeuralDecisionTreeForTimeSeries(depth, num_features, used_features_rate, output_size)\n",
        "            )\n",
        "\n",
        "    def call(self, inputs):\n",
        "        # Initialize the outputs: a [batch_size, output_size] matrix of zeros.\n",
        "        batch_size = tf.shape(inputs)[0]\n",
        "        outputs = tf.zeros([batch_size, output_size,1])\n",
        "\n",
        "        # Aggregate the outputs of trees in the ensemble.\n",
        "        for tree in self.ensemble:\n",
        "            outputs += tree(inputs)\n",
        "        # Divide the outputs by the ensemble size to get the average.\n",
        "        outputs /= len(self.ensemble)\n",
        "        return outputs\n"
      ]
    },
    {
      "cell_type": "markdown",
      "source": [
        "####Lets do some experiments!"
      ],
      "metadata": {
        "id": "GgQX6otVd4wy"
      }
    },
    {
      "cell_type": "markdown",
      "source": [
        "1. First create an instance of our class with depth=3\n",
        "\n",
        "2. Then we need to initialize the weights in our model using the function build and specifying the input shape\n",
        "\n",
        "In the prototype we will predict only 1 time step at a time, this will change in the future.\n"
      ],
      "metadata": {
        "id": "ipf_7MlWd9J2"
      }
    },
    {
      "cell_type": "code",
      "execution_count": null,
      "metadata": {
        "id": "WtZobpRLzSQl"
      },
      "outputs": [],
      "source": [
        "num_features=df.shape[1]\n",
        "used_features_rate=0.4\n",
        "output_size=1\n",
        "tree = NeuralDecisionTreeForTimeSeries(depth=3,\n",
        "                                       num_features=num_features,\n",
        "                                       used_features_rate=used_features_rate,\n",
        "                                       output_size=output_size)\n"
      ]
    },
    {
      "cell_type": "code",
      "execution_count": null,
      "metadata": {
        "id": "AY159I7Ozca4"
      },
      "outputs": [],
      "source": [
        "tree.build(input_shape=(None,None,num_features))"
      ]
    },
    {
      "cell_type": "markdown",
      "source": [
        "Lets take a look at the architecture"
      ],
      "metadata": {
        "id": "H6IBDN9recZw"
      }
    },
    {
      "cell_type": "code",
      "execution_count": null,
      "metadata": {
        "id": "RjvgUYapzgfR",
        "colab": {
          "base_uri": "https://localhost:8080/"
        },
        "outputId": "25ee28b0-bc64-43ff-ce77-05e372397825"
      },
      "outputs": [
        {
          "output_type": "stream",
          "name": "stdout",
          "text": [
            "Model: \"neural_decision_tree_for_time_series\"\n",
            "_________________________________________________________________\n",
            " Layer (type)                Output Shape              Param #   \n",
            "=================================================================\n",
            " sequential (Sequential)     (None, 1)                 1473      \n",
            "                                                                 \n",
            " sequential_1 (Sequential)   (None, 1)                 1473      \n",
            "                                                                 \n",
            " sequential_2 (Sequential)   (None, 2)                 5186      \n",
            "                                                                 \n",
            " sequential_3 (Sequential)   (None, 2)                 5186      \n",
            "                                                                 \n",
            " sequential_4 (Sequential)   (None, 4)                 1604      \n",
            "                                                                 \n",
            " sequential_5 (Sequential)   (None, 4)                 1604      \n",
            "                                                                 \n",
            "=================================================================\n",
            "Total params: 8470 (33.09 KB)\n",
            "Trainable params: 8470 (33.09 KB)\n",
            "Non-trainable params: 0 (0.00 Byte)\n",
            "_________________________________________________________________\n"
          ]
        }
      ],
      "source": [
        "tree.summary()"
      ]
    },
    {
      "cell_type": "markdown",
      "metadata": {
        "id": "5aR6TGVx9OP4"
      },
      "source": [
        "# 5 Custom Training Loop\n",
        "\n",
        "1. Lets create a custom training loop for optimizing the weights in our model. In this loop we will perform two step optimization\n",
        " - First optimize the leaf node parameters while fixing decision parameters.\n",
        " - Then optimize the decision parameters while fixing leaf node parameters.\n",
        " - Continue doing this in loop for a specified number of epochs\n"
      ]
    },
    {
      "cell_type": "code",
      "execution_count": null,
      "metadata": {
        "id": "EXrDmvHs9Gru"
      },
      "outputs": [],
      "source": [
        "@tf.function\n",
        "def train_step_pi(model, x, y, optimizer, loss_fn, metric):\n",
        "    with tf.GradientTape() as tape:\n",
        "        predictions = model(x, training=True)\n",
        "        loss = loss_fn(y, predictions)\n",
        "    grads = tape.gradient(loss,[model.trainable_variables[-1]])\n",
        "    optimizer.apply_gradients(zip(grads, [model.trainable_variables[-1]]))\n",
        "    metric.update_state(y, predictions)\n",
        "    return loss\n",
        "\n",
        "@tf.function\n",
        "def train_step_mu(model, x, y, optimizer, loss_fn, metric):\n",
        "    with tf.GradientTape() as tape:\n",
        "        predictions = model(x, training=True)\n",
        "        loss = loss_fn(y, predictions)\n",
        "    grads = tape.gradient(loss, model.trainable_variables[:-1])\n",
        "    optimizer.apply_gradients(zip(grads, model.trainable_variables[:-1]))\n",
        "    metric.update_state(y, predictions)\n",
        "    return loss\n",
        "\n",
        "@tf.function\n",
        "def val_step(model, x, y, loss_fn, loss_metric):\n",
        "    val_predictions = model(x, training=False)\n",
        "    loss = loss_fn(y, val_predictions)\n",
        "    loss_metric.update_state(y, val_predictions)\n",
        "    return loss"
      ]
    },
    {
      "cell_type": "code",
      "execution_count": null,
      "metadata": {
        "id": "V-Pmxdyc9LFO"
      },
      "outputs": [],
      "source": [
        "def custom_train_model(model, window, num_epochs, optimizer, loss_fn):\n",
        "    metric = tf.keras.metrics.MeanAbsoluteError()\n",
        "    optimizer.build(model.trainable_variables)\n",
        "    for epoch in range(num_epochs):\n",
        "\n",
        "        print(f\"Epoch {epoch+1}/{num_epochs}\")\n",
        "\n",
        "        # First loop for updating π (variable_pi)\n",
        "        for step, (x_batch_train, y_batch_train) in enumerate(window.train):\n",
        "            loss_value = train_step_pi(model, x_batch_train, y_batch_train, optimizer, loss_fn, metric)\n",
        "            if step % 200 == 0:\n",
        "                print(f\"Updating π - Loss at step {step}: {float(loss_value)}\")\n",
        "        train_acc = metric.result()\n",
        "        metric.reset_states()\n",
        "        print(\"train_mean_absolute_error: %.4f\" % (float(train_acc),))\n",
        "        # Second loop for updating μ (variable_mu)\n",
        "        for step, (x_batch_train, y_batch_train) in enumerate(window.train):\n",
        "            loss_value = train_step_mu(model, x_batch_train, y_batch_train, optimizer, loss_fn, metric)\n",
        "            if step % 200 == 0:\n",
        "                print(f\"Updating μ - Loss at step {step}: {float(loss_value)}\")\n",
        "        train_acc = metric.result()\n",
        "        metric.reset_states()\n",
        "        print(\"train_mean_absolute_error: %.4f\" % (float(train_acc),))\n",
        "        # Validation loop at the end of each epoch\n",
        "        for x_batch_val, y_batch_val in window.val:\n",
        "            val_loss= val_step(model, x_batch_val, y_batch_val, loss_fn, metric)\n",
        "\n",
        "        val_acc = metric.result()\n",
        "        metric.reset_states()\n",
        "        print(\"val_loss: %.4f\" % (float(val_loss),))\n",
        "        print(\"val_mean_absolute_error: %.4f\" % (float(val_acc),))\n",
        "\n",
        "        # Additional operations at the end of each epoch, if necessary\n"
      ]
    },
    {
      "cell_type": "markdown",
      "source": [
        "Define the optimizer and the loss function here. This cell needs be run everytime before experimenting with different trees. We set loss function as mean square error, optimizer as Adam optimization which is a stochastic gradient descent method that is based on adaptive estimation of first-order and second-order moments and output results in metrics."
      ],
      "metadata": {
        "id": "6dtHGyyofeG-"
      }
    },
    {
      "cell_type": "code",
      "execution_count": null,
      "metadata": {
        "id": "5jsrILLo94Iw"
      },
      "outputs": [],
      "source": [
        "optimizer = tf.keras.optimizers.Adam()\n",
        "loss_fn = tf.keras.losses.MeanSquaredError()\n",
        "\n"
      ]
    },
    {
      "cell_type": "code",
      "execution_count": null,
      "metadata": {
        "colab": {
          "base_uri": "https://localhost:8080/",
          "height": 1000
        },
        "id": "TZJH-0RR9UuM",
        "outputId": "43765167-370b-4404-c35f-8c5fb9775264"
      },
      "outputs": [
        {
          "output_type": "stream",
          "name": "stdout",
          "text": [
            "Epoch 1/10\n",
            "Updating π - Loss at step 0: 0.017410341650247574\n",
            "Updating π - Loss at step 200: 0.004055861383676529\n",
            "Updating π - Loss at step 400: 0.007415737025439739\n",
            "Updating π - Loss at step 600: 0.007960077375173569\n",
            "Updating π - Loss at step 800: 0.006105051375925541\n",
            "Updating π - Loss at step 1000: 0.009051915258169174\n",
            "Updating π - Loss at step 1200: 0.005938065703958273\n",
            "Updating π - Loss at step 1400: 0.004453260451555252\n",
            "train_mean_absolute_error: 0.0738\n",
            "Updating μ - Loss at step 0: 0.003096628002822399\n",
            "Updating μ - Loss at step 200: 0.00372694106772542\n",
            "Updating μ - Loss at step 400: 0.006247404962778091\n",
            "Updating μ - Loss at step 600: 0.008473655208945274\n",
            "Updating μ - Loss at step 800: 0.005609448067843914\n",
            "Updating μ - Loss at step 1000: 0.0068098995834589005\n",
            "Updating μ - Loss at step 1200: 0.006379884202033281\n",
            "Updating μ - Loss at step 1400: 0.0037162359803915024\n",
            "train_mean_absolute_error: 0.0730\n",
            "val_loss: 0.0017\n",
            "val_mean_absolute_error: 0.0626\n",
            "Epoch 2/10\n",
            "Updating π - Loss at step 0: 0.002602319000288844\n",
            "Updating π - Loss at step 200: 0.0026561706326901913\n",
            "Updating π - Loss at step 400: 0.006220280192792416\n",
            "Updating π - Loss at step 600: 0.008017821237444878\n",
            "Updating π - Loss at step 800: 0.005402926355600357\n",
            "Updating π - Loss at step 1000: 0.00728929229080677\n",
            "Updating π - Loss at step 1200: 0.004903625231236219\n",
            "Updating π - Loss at step 1400: 0.003861694596707821\n",
            "train_mean_absolute_error: 0.0661\n",
            "Updating μ - Loss at step 0: 0.007149857468903065\n",
            "Updating μ - Loss at step 200: 0.003168919123709202\n",
            "Updating μ - Loss at step 400: 0.006351192481815815\n",
            "Updating μ - Loss at step 600: 0.007830210961401463\n",
            "Updating μ - Loss at step 800: 0.005715835839509964\n",
            "Updating μ - Loss at step 1000: 0.007941321469843388\n",
            "Updating μ - Loss at step 1200: 0.006842894479632378\n",
            "Updating μ - Loss at step 1400: 0.003640412585809827\n",
            "train_mean_absolute_error: 0.0658\n",
            "val_loss: 0.0014\n",
            "val_mean_absolute_error: 0.0599\n",
            "Epoch 3/10\n",
            "Updating π - Loss at step 0: 0.002357563003897667\n",
            "Updating π - Loss at step 200: 0.0025589570868760347\n",
            "Updating π - Loss at step 400: 0.006335234269499779\n",
            "Updating π - Loss at step 600: 0.008114345371723175\n",
            "Updating π - Loss at step 800: 0.005386788863688707\n",
            "Updating π - Loss at step 1000: 0.007982078939676285\n",
            "Updating π - Loss at step 1200: 0.005573747679591179\n",
            "Updating π - Loss at step 1400: 0.0038846153765916824\n",
            "train_mean_absolute_error: 0.0630\n",
            "Updating μ - Loss at step 0: 0.00529100326821208\n",
            "Updating μ - Loss at step 200: 0.0028523490764200687\n",
            "Updating μ - Loss at step 400: 0.006651150994002819\n",
            "Updating μ - Loss at step 600: 0.00785947497934103\n",
            "Updating μ - Loss at step 800: 0.005362029653042555\n",
            "Updating μ - Loss at step 1000: 0.008077974431216717\n",
            "Updating μ - Loss at step 1200: 0.0072572301141917706\n",
            "Updating μ - Loss at step 1400: 0.0036799830850213766\n",
            "train_mean_absolute_error: 0.0646\n",
            "val_loss: 0.0013\n",
            "val_mean_absolute_error: 0.0584\n",
            "Epoch 4/10\n",
            "Updating π - Loss at step 0: 0.004037145525217056\n",
            "Updating π - Loss at step 200: 0.0024389615282416344\n",
            "Updating π - Loss at step 400: 0.006278497166931629\n",
            "Updating π - Loss at step 600: 0.00842966791242361\n",
            "Updating π - Loss at step 800: 0.0056617059744894505\n",
            "Updating π - Loss at step 1000: 0.007825590670108795\n",
            "Updating π - Loss at step 1200: 0.005854111630469561\n",
            "Updating π - Loss at step 1400: 0.003904728451743722\n",
            "train_mean_absolute_error: 0.0612\n",
            "Updating μ - Loss at step 0: 0.0030890433117747307\n",
            "Updating μ - Loss at step 200: 0.0027262261137366295\n",
            "Updating μ - Loss at step 400: 0.006911772303283215\n",
            "Updating μ - Loss at step 600: 0.006887451279908419\n",
            "Updating μ - Loss at step 800: 0.005357145797461271\n"
          ]
        },
        {
          "output_type": "error",
          "ename": "KeyboardInterrupt",
          "evalue": "ignored",
          "traceback": [
            "\u001b[0;31m---------------------------------------------------------------------------\u001b[0m",
            "\u001b[0;31mKeyboardInterrupt\u001b[0m                         Traceback (most recent call last)",
            "\u001b[0;32m<ipython-input-31-fa713e162cac>\u001b[0m in \u001b[0;36m<cell line: 1>\u001b[0;34m()\u001b[0m\n\u001b[0;32m----> 1\u001b[0;31m \u001b[0mcustom_train_model\u001b[0m\u001b[0;34m(\u001b[0m\u001b[0mtree\u001b[0m\u001b[0;34m,\u001b[0m \u001b[0mthree_step_window\u001b[0m\u001b[0;34m,\u001b[0m \u001b[0;36m10\u001b[0m\u001b[0;34m,\u001b[0m \u001b[0moptimizer\u001b[0m\u001b[0;34m,\u001b[0m \u001b[0mloss_fn\u001b[0m\u001b[0;34m)\u001b[0m\u001b[0;34m\u001b[0m\u001b[0;34m\u001b[0m\u001b[0m\n\u001b[0m",
            "\u001b[0;32m<ipython-input-29-6f41c0df53b4>\u001b[0m in \u001b[0;36mcustom_train_model\u001b[0;34m(model, window, num_epochs, optimizer, loss_fn)\u001b[0m\n\u001b[1;32m     16\u001b[0m         \u001b[0;31m# Second loop for updating μ (variable_mu)\u001b[0m\u001b[0;34m\u001b[0m\u001b[0;34m\u001b[0m\u001b[0m\n\u001b[1;32m     17\u001b[0m         \u001b[0;32mfor\u001b[0m \u001b[0mstep\u001b[0m\u001b[0;34m,\u001b[0m \u001b[0;34m(\u001b[0m\u001b[0mx_batch_train\u001b[0m\u001b[0;34m,\u001b[0m \u001b[0my_batch_train\u001b[0m\u001b[0;34m)\u001b[0m \u001b[0;32min\u001b[0m \u001b[0menumerate\u001b[0m\u001b[0;34m(\u001b[0m\u001b[0mwindow\u001b[0m\u001b[0;34m.\u001b[0m\u001b[0mtrain\u001b[0m\u001b[0;34m)\u001b[0m\u001b[0;34m:\u001b[0m\u001b[0;34m\u001b[0m\u001b[0;34m\u001b[0m\u001b[0m\n\u001b[0;32m---> 18\u001b[0;31m             \u001b[0mloss_value\u001b[0m \u001b[0;34m=\u001b[0m \u001b[0mtrain_step_mu\u001b[0m\u001b[0;34m(\u001b[0m\u001b[0mmodel\u001b[0m\u001b[0;34m,\u001b[0m \u001b[0mx_batch_train\u001b[0m\u001b[0;34m,\u001b[0m \u001b[0my_batch_train\u001b[0m\u001b[0;34m,\u001b[0m \u001b[0moptimizer\u001b[0m\u001b[0;34m,\u001b[0m \u001b[0mloss_fn\u001b[0m\u001b[0;34m,\u001b[0m \u001b[0mmetric\u001b[0m\u001b[0;34m)\u001b[0m\u001b[0;34m\u001b[0m\u001b[0;34m\u001b[0m\u001b[0m\n\u001b[0m\u001b[1;32m     19\u001b[0m             \u001b[0;32mif\u001b[0m \u001b[0mstep\u001b[0m \u001b[0;34m%\u001b[0m \u001b[0;36m200\u001b[0m \u001b[0;34m==\u001b[0m \u001b[0;36m0\u001b[0m\u001b[0;34m:\u001b[0m\u001b[0;34m\u001b[0m\u001b[0;34m\u001b[0m\u001b[0m\n\u001b[1;32m     20\u001b[0m                 \u001b[0mprint\u001b[0m\u001b[0;34m(\u001b[0m\u001b[0;34mf\"Updating μ - Loss at step {step}: {float(loss_value)}\"\u001b[0m\u001b[0;34m)\u001b[0m\u001b[0;34m\u001b[0m\u001b[0;34m\u001b[0m\u001b[0m\n",
            "\u001b[0;32m/usr/local/lib/python3.10/dist-packages/tensorflow/python/util/traceback_utils.py\u001b[0m in \u001b[0;36merror_handler\u001b[0;34m(*args, **kwargs)\u001b[0m\n\u001b[1;32m    148\u001b[0m     \u001b[0mfiltered_tb\u001b[0m \u001b[0;34m=\u001b[0m \u001b[0;32mNone\u001b[0m\u001b[0;34m\u001b[0m\u001b[0;34m\u001b[0m\u001b[0m\n\u001b[1;32m    149\u001b[0m     \u001b[0;32mtry\u001b[0m\u001b[0;34m:\u001b[0m\u001b[0;34m\u001b[0m\u001b[0;34m\u001b[0m\u001b[0m\n\u001b[0;32m--> 150\u001b[0;31m       \u001b[0;32mreturn\u001b[0m \u001b[0mfn\u001b[0m\u001b[0;34m(\u001b[0m\u001b[0;34m*\u001b[0m\u001b[0margs\u001b[0m\u001b[0;34m,\u001b[0m \u001b[0;34m**\u001b[0m\u001b[0mkwargs\u001b[0m\u001b[0;34m)\u001b[0m\u001b[0;34m\u001b[0m\u001b[0;34m\u001b[0m\u001b[0m\n\u001b[0m\u001b[1;32m    151\u001b[0m     \u001b[0;32mexcept\u001b[0m \u001b[0mException\u001b[0m \u001b[0;32mas\u001b[0m \u001b[0me\u001b[0m\u001b[0;34m:\u001b[0m\u001b[0;34m\u001b[0m\u001b[0;34m\u001b[0m\u001b[0m\n\u001b[1;32m    152\u001b[0m       \u001b[0mfiltered_tb\u001b[0m \u001b[0;34m=\u001b[0m \u001b[0m_process_traceback_frames\u001b[0m\u001b[0;34m(\u001b[0m\u001b[0me\u001b[0m\u001b[0;34m.\u001b[0m\u001b[0m__traceback__\u001b[0m\u001b[0;34m)\u001b[0m\u001b[0;34m\u001b[0m\u001b[0;34m\u001b[0m\u001b[0m\n",
            "\u001b[0;32m/usr/local/lib/python3.10/dist-packages/tensorflow/python/eager/polymorphic_function/polymorphic_function.py\u001b[0m in \u001b[0;36m__call__\u001b[0;34m(self, *args, **kwds)\u001b[0m\n\u001b[1;32m    829\u001b[0m \u001b[0;34m\u001b[0m\u001b[0m\n\u001b[1;32m    830\u001b[0m       \u001b[0;32mwith\u001b[0m \u001b[0mOptionalXlaContext\u001b[0m\u001b[0;34m(\u001b[0m\u001b[0mself\u001b[0m\u001b[0;34m.\u001b[0m\u001b[0m_jit_compile\u001b[0m\u001b[0;34m)\u001b[0m\u001b[0;34m:\u001b[0m\u001b[0;34m\u001b[0m\u001b[0;34m\u001b[0m\u001b[0m\n\u001b[0;32m--> 831\u001b[0;31m         \u001b[0mresult\u001b[0m \u001b[0;34m=\u001b[0m \u001b[0mself\u001b[0m\u001b[0;34m.\u001b[0m\u001b[0m_call\u001b[0m\u001b[0;34m(\u001b[0m\u001b[0;34m*\u001b[0m\u001b[0margs\u001b[0m\u001b[0;34m,\u001b[0m \u001b[0;34m**\u001b[0m\u001b[0mkwds\u001b[0m\u001b[0;34m)\u001b[0m\u001b[0;34m\u001b[0m\u001b[0;34m\u001b[0m\u001b[0m\n\u001b[0m\u001b[1;32m    832\u001b[0m \u001b[0;34m\u001b[0m\u001b[0m\n\u001b[1;32m    833\u001b[0m       \u001b[0mnew_tracing_count\u001b[0m \u001b[0;34m=\u001b[0m \u001b[0mself\u001b[0m\u001b[0;34m.\u001b[0m\u001b[0mexperimental_get_tracing_count\u001b[0m\u001b[0;34m(\u001b[0m\u001b[0;34m)\u001b[0m\u001b[0;34m\u001b[0m\u001b[0;34m\u001b[0m\u001b[0m\n",
            "\u001b[0;32m/usr/local/lib/python3.10/dist-packages/tensorflow/python/eager/polymorphic_function/polymorphic_function.py\u001b[0m in \u001b[0;36m_call\u001b[0;34m(self, *args, **kwds)\u001b[0m\n\u001b[1;32m    874\u001b[0m       \u001b[0;31m# In this case we have not created variables on the first call. So we can\u001b[0m\u001b[0;34m\u001b[0m\u001b[0;34m\u001b[0m\u001b[0m\n\u001b[1;32m    875\u001b[0m       \u001b[0;31m# run the first trace but we should fail if variables are created.\u001b[0m\u001b[0;34m\u001b[0m\u001b[0;34m\u001b[0m\u001b[0m\n\u001b[0;32m--> 876\u001b[0;31m       results = tracing_compilation.call_function(\n\u001b[0m\u001b[1;32m    877\u001b[0m           \u001b[0margs\u001b[0m\u001b[0;34m,\u001b[0m \u001b[0mkwds\u001b[0m\u001b[0;34m,\u001b[0m \u001b[0mself\u001b[0m\u001b[0;34m.\u001b[0m\u001b[0m_variable_creation_config\u001b[0m\u001b[0;34m\u001b[0m\u001b[0;34m\u001b[0m\u001b[0m\n\u001b[1;32m    878\u001b[0m       )\n",
            "\u001b[0;32m/usr/local/lib/python3.10/dist-packages/tensorflow/python/eager/polymorphic_function/tracing_compilation.py\u001b[0m in \u001b[0;36mcall_function\u001b[0;34m(args, kwargs, tracing_options)\u001b[0m\n\u001b[1;32m    137\u001b[0m   \u001b[0mbound_args\u001b[0m \u001b[0;34m=\u001b[0m \u001b[0mfunction\u001b[0m\u001b[0;34m.\u001b[0m\u001b[0mfunction_type\u001b[0m\u001b[0;34m.\u001b[0m\u001b[0mbind\u001b[0m\u001b[0;34m(\u001b[0m\u001b[0;34m*\u001b[0m\u001b[0margs\u001b[0m\u001b[0;34m,\u001b[0m \u001b[0;34m**\u001b[0m\u001b[0mkwargs\u001b[0m\u001b[0;34m)\u001b[0m\u001b[0;34m\u001b[0m\u001b[0;34m\u001b[0m\u001b[0m\n\u001b[1;32m    138\u001b[0m   \u001b[0mflat_inputs\u001b[0m \u001b[0;34m=\u001b[0m \u001b[0mfunction\u001b[0m\u001b[0;34m.\u001b[0m\u001b[0mfunction_type\u001b[0m\u001b[0;34m.\u001b[0m\u001b[0munpack_inputs\u001b[0m\u001b[0;34m(\u001b[0m\u001b[0mbound_args\u001b[0m\u001b[0;34m)\u001b[0m\u001b[0;34m\u001b[0m\u001b[0;34m\u001b[0m\u001b[0m\n\u001b[0;32m--> 139\u001b[0;31m   return function._call_flat(  # pylint: disable=protected-access\n\u001b[0m\u001b[1;32m    140\u001b[0m       \u001b[0mflat_inputs\u001b[0m\u001b[0;34m,\u001b[0m \u001b[0mcaptured_inputs\u001b[0m\u001b[0;34m=\u001b[0m\u001b[0mfunction\u001b[0m\u001b[0;34m.\u001b[0m\u001b[0mcaptured_inputs\u001b[0m\u001b[0;34m\u001b[0m\u001b[0;34m\u001b[0m\u001b[0m\n\u001b[1;32m    141\u001b[0m   )\n",
            "\u001b[0;32m/usr/local/lib/python3.10/dist-packages/tensorflow/python/eager/polymorphic_function/concrete_function.py\u001b[0m in \u001b[0;36m_call_flat\u001b[0;34m(self, tensor_inputs, captured_inputs)\u001b[0m\n\u001b[1;32m   1262\u001b[0m         and executing_eagerly):\n\u001b[1;32m   1263\u001b[0m       \u001b[0;31m# No tape is watching; skip to running the function.\u001b[0m\u001b[0;34m\u001b[0m\u001b[0;34m\u001b[0m\u001b[0m\n\u001b[0;32m-> 1264\u001b[0;31m       \u001b[0;32mreturn\u001b[0m \u001b[0mself\u001b[0m\u001b[0;34m.\u001b[0m\u001b[0m_inference_function\u001b[0m\u001b[0;34m.\u001b[0m\u001b[0mflat_call\u001b[0m\u001b[0;34m(\u001b[0m\u001b[0margs\u001b[0m\u001b[0;34m)\u001b[0m\u001b[0;34m\u001b[0m\u001b[0;34m\u001b[0m\u001b[0m\n\u001b[0m\u001b[1;32m   1265\u001b[0m     forward_backward = self._select_forward_and_backward_functions(\n\u001b[1;32m   1266\u001b[0m         \u001b[0margs\u001b[0m\u001b[0;34m,\u001b[0m\u001b[0;34m\u001b[0m\u001b[0;34m\u001b[0m\u001b[0m\n",
            "\u001b[0;32m/usr/local/lib/python3.10/dist-packages/tensorflow/python/eager/polymorphic_function/atomic_function.py\u001b[0m in \u001b[0;36mflat_call\u001b[0;34m(self, args)\u001b[0m\n\u001b[1;32m    215\u001b[0m   \u001b[0;32mdef\u001b[0m \u001b[0mflat_call\u001b[0m\u001b[0;34m(\u001b[0m\u001b[0mself\u001b[0m\u001b[0;34m,\u001b[0m \u001b[0margs\u001b[0m\u001b[0;34m:\u001b[0m \u001b[0mSequence\u001b[0m\u001b[0;34m[\u001b[0m\u001b[0mcore\u001b[0m\u001b[0;34m.\u001b[0m\u001b[0mTensor\u001b[0m\u001b[0;34m]\u001b[0m\u001b[0;34m)\u001b[0m \u001b[0;34m->\u001b[0m \u001b[0mAny\u001b[0m\u001b[0;34m:\u001b[0m\u001b[0;34m\u001b[0m\u001b[0;34m\u001b[0m\u001b[0m\n\u001b[1;32m    216\u001b[0m     \u001b[0;34m\"\"\"Calls with tensor inputs and returns the structured output.\"\"\"\u001b[0m\u001b[0;34m\u001b[0m\u001b[0;34m\u001b[0m\u001b[0m\n\u001b[0;32m--> 217\u001b[0;31m     \u001b[0mflat_outputs\u001b[0m \u001b[0;34m=\u001b[0m \u001b[0mself\u001b[0m\u001b[0;34m(\u001b[0m\u001b[0;34m*\u001b[0m\u001b[0margs\u001b[0m\u001b[0;34m)\u001b[0m\u001b[0;34m\u001b[0m\u001b[0;34m\u001b[0m\u001b[0m\n\u001b[0m\u001b[1;32m    218\u001b[0m     \u001b[0;32mreturn\u001b[0m \u001b[0mself\u001b[0m\u001b[0;34m.\u001b[0m\u001b[0mfunction_type\u001b[0m\u001b[0;34m.\u001b[0m\u001b[0mpack_output\u001b[0m\u001b[0;34m(\u001b[0m\u001b[0mflat_outputs\u001b[0m\u001b[0;34m)\u001b[0m\u001b[0;34m\u001b[0m\u001b[0;34m\u001b[0m\u001b[0m\n\u001b[1;32m    219\u001b[0m \u001b[0;34m\u001b[0m\u001b[0m\n",
            "\u001b[0;32m/usr/local/lib/python3.10/dist-packages/tensorflow/python/eager/polymorphic_function/atomic_function.py\u001b[0m in \u001b[0;36m__call__\u001b[0;34m(self, *args)\u001b[0m\n\u001b[1;32m    250\u001b[0m         \u001b[0;32mwith\u001b[0m \u001b[0mrecord\u001b[0m\u001b[0;34m.\u001b[0m\u001b[0mstop_recording\u001b[0m\u001b[0;34m(\u001b[0m\u001b[0;34m)\u001b[0m\u001b[0;34m:\u001b[0m\u001b[0;34m\u001b[0m\u001b[0;34m\u001b[0m\u001b[0m\n\u001b[1;32m    251\u001b[0m           \u001b[0;32mif\u001b[0m \u001b[0mself\u001b[0m\u001b[0;34m.\u001b[0m\u001b[0m_bound_context\u001b[0m\u001b[0;34m.\u001b[0m\u001b[0mexecuting_eagerly\u001b[0m\u001b[0;34m(\u001b[0m\u001b[0;34m)\u001b[0m\u001b[0;34m:\u001b[0m\u001b[0;34m\u001b[0m\u001b[0;34m\u001b[0m\u001b[0m\n\u001b[0;32m--> 252\u001b[0;31m             outputs = self._bound_context.call_function(\n\u001b[0m\u001b[1;32m    253\u001b[0m                 \u001b[0mself\u001b[0m\u001b[0;34m.\u001b[0m\u001b[0mname\u001b[0m\u001b[0;34m,\u001b[0m\u001b[0;34m\u001b[0m\u001b[0;34m\u001b[0m\u001b[0m\n\u001b[1;32m    254\u001b[0m                 \u001b[0mlist\u001b[0m\u001b[0;34m(\u001b[0m\u001b[0margs\u001b[0m\u001b[0;34m)\u001b[0m\u001b[0;34m,\u001b[0m\u001b[0;34m\u001b[0m\u001b[0;34m\u001b[0m\u001b[0m\n",
            "\u001b[0;32m/usr/local/lib/python3.10/dist-packages/tensorflow/python/eager/context.py\u001b[0m in \u001b[0;36mcall_function\u001b[0;34m(self, name, tensor_inputs, num_outputs)\u001b[0m\n\u001b[1;32m   1477\u001b[0m     \u001b[0mcancellation_context\u001b[0m \u001b[0;34m=\u001b[0m \u001b[0mcancellation\u001b[0m\u001b[0;34m.\u001b[0m\u001b[0mcontext\u001b[0m\u001b[0;34m(\u001b[0m\u001b[0;34m)\u001b[0m\u001b[0;34m\u001b[0m\u001b[0;34m\u001b[0m\u001b[0m\n\u001b[1;32m   1478\u001b[0m     \u001b[0;32mif\u001b[0m \u001b[0mcancellation_context\u001b[0m \u001b[0;32mis\u001b[0m \u001b[0;32mNone\u001b[0m\u001b[0;34m:\u001b[0m\u001b[0;34m\u001b[0m\u001b[0;34m\u001b[0m\u001b[0m\n\u001b[0;32m-> 1479\u001b[0;31m       outputs = execute.execute(\n\u001b[0m\u001b[1;32m   1480\u001b[0m           \u001b[0mname\u001b[0m\u001b[0;34m.\u001b[0m\u001b[0mdecode\u001b[0m\u001b[0;34m(\u001b[0m\u001b[0;34m\"utf-8\"\u001b[0m\u001b[0;34m)\u001b[0m\u001b[0;34m,\u001b[0m\u001b[0;34m\u001b[0m\u001b[0;34m\u001b[0m\u001b[0m\n\u001b[1;32m   1481\u001b[0m           \u001b[0mnum_outputs\u001b[0m\u001b[0;34m=\u001b[0m\u001b[0mnum_outputs\u001b[0m\u001b[0;34m,\u001b[0m\u001b[0;34m\u001b[0m\u001b[0;34m\u001b[0m\u001b[0m\n",
            "\u001b[0;32m/usr/local/lib/python3.10/dist-packages/tensorflow/python/eager/execute.py\u001b[0m in \u001b[0;36mquick_execute\u001b[0;34m(op_name, num_outputs, inputs, attrs, ctx, name)\u001b[0m\n\u001b[1;32m     58\u001b[0m         \u001b[0;32mfor\u001b[0m \u001b[0mt\u001b[0m \u001b[0;32min\u001b[0m \u001b[0minputs\u001b[0m\u001b[0;34m\u001b[0m\u001b[0;34m\u001b[0m\u001b[0m\n\u001b[1;32m     59\u001b[0m     ]\n\u001b[0;32m---> 60\u001b[0;31m     tensors = pywrap_tfe.TFE_Py_Execute(ctx._handle, device_name, op_name,\n\u001b[0m\u001b[1;32m     61\u001b[0m                                         inputs, attrs, num_outputs)\n\u001b[1;32m     62\u001b[0m   \u001b[0;32mexcept\u001b[0m \u001b[0mcore\u001b[0m\u001b[0;34m.\u001b[0m\u001b[0m_NotOkStatusException\u001b[0m \u001b[0;32mas\u001b[0m \u001b[0me\u001b[0m\u001b[0;34m:\u001b[0m\u001b[0;34m\u001b[0m\u001b[0;34m\u001b[0m\u001b[0m\n",
            "\u001b[0;31mKeyboardInterrupt\u001b[0m: "
          ]
        }
      ],
      "source": [
        "custom_train_model(tree, three_step_window, 10, optimizer, loss_fn)"
      ]
    },
    {
      "cell_type": "markdown",
      "source": [
        "## Hyperparameter Tuning\n",
        "\n",
        "Hyperparameter tuning for depth of the tree will be done using Optuna in the future. Optuna will also be used to sample activation functions and different time series processing layers"
      ],
      "metadata": {
        "id": "7H-94ZS2gXD4"
      }
    },
    {
      "cell_type": "markdown",
      "metadata": {
        "id": "nw6NbWXM7ZSr"
      },
      "source": [
        "# 6 Conclusion"
      ]
    },
    {
      "cell_type": "markdown",
      "metadata": {
        "id": "Kw1ugeZ17cs0"
      },
      "source": [
        "# 7 References"
      ]
    }
  ],
  "metadata": {
    "colab": {
      "provenance": [],
      "gpuType": "T4",
      "include_colab_link": true
    },
    "kernelspec": {
      "display_name": "Python 3",
      "name": "python3"
    },
    "language_info": {
      "name": "python"
    }
  },
  "nbformat": 4,
  "nbformat_minor": 0
}